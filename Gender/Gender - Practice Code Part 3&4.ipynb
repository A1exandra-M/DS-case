{
 "cells": [
  {
   "cell_type": "markdown",
   "id": "1f56b10a",
   "metadata": {},
   "source": [
    "## Part 3: Data Wrangling and Transformation."
   ]
  },
  {
   "cell_type": "markdown",
   "id": "e9890f6d",
   "metadata": {
    "papermill": {
     "duration": 0.029702,
     "end_time": "2021-05-12T06:37:38.664858",
     "exception": false,
     "start_time": "2021-05-12T06:37:38.635156",
     "status": "completed"
    },
    "tags": []
   },
   "source": [
    "* ### Creating datasets for ML part"
   ]
  },
  {
   "cell_type": "code",
   "execution_count": 354,
   "id": "60db959a",
   "metadata": {
    "execution": {
     "iopub.execute_input": "2021-05-12T06:37:38.722329Z",
     "iopub.status.busy": "2021-05-12T06:37:38.721379Z",
     "iopub.status.idle": "2021-05-12T06:37:38.806079Z",
     "shell.execute_reply": "2021-05-12T06:37:38.807281Z"
    },
    "papermill": {
     "duration": 0.117005,
     "end_time": "2021-05-12T06:37:38.807542",
     "exception": false,
     "start_time": "2021-05-12T06:37:38.690537",
     "status": "completed"
    },
    "tags": []
   },
   "outputs": [],
   "source": [
    "# set 'X' for features' and y' for the target ('gender').\n",
    "y = data['gender']\n",
    "X = data.drop(['gender'],axis=1)"
   ]
  },
  {
   "cell_type": "markdown",
   "id": "28516a53",
   "metadata": {},
   "source": [
    "* ### 'Train\\Test' split"
   ]
  },
  {
   "cell_type": "code",
   "execution_count": 355,
   "id": "d6841dcf",
   "metadata": {},
   "outputs": [],
   "source": [
    "# 'Train\\Test' splitting method\n",
    "X_train, X_test,y_train, y_test = train_test_split(X,y,test_size=0.3, random_state=0) "
   ]
  },
  {
   "cell_type": "markdown",
   "id": "a65b85fe",
   "metadata": {},
   "source": [
    "## Part 4: Machine Learning."
   ]
  },
  {
   "cell_type": "markdown",
   "id": "a9bc6331",
   "metadata": {},
   "source": [
    "* ### Build, train and evaluate model"
   ]
  },
  {
   "cell_type": "markdown",
   "id": "b360fd5b",
   "metadata": {
    "papermill": {
     "duration": 0.025229,
     "end_time": "2021-05-12T06:37:38.959430",
     "exception": false,
     "start_time": "2021-05-12T06:37:38.934201",
     "status": "completed"
    },
    "tags": []
   },
   "source": [
    "### Logistic Regression"
   ]
  },
  {
   "cell_type": "code",
   "execution_count": 356,
   "id": "8f47133b",
   "metadata": {
    "execution": {
     "iopub.execute_input": "2021-05-12T06:37:39.015844Z",
     "iopub.status.busy": "2021-05-12T06:37:39.015009Z",
     "iopub.status.idle": "2021-05-12T06:37:39.161675Z",
     "shell.execute_reply": "2021-05-12T06:37:39.162217Z"
    },
    "papermill": {
     "duration": 0.177869,
     "end_time": "2021-05-12T06:37:39.162420",
     "exception": false,
     "start_time": "2021-05-12T06:37:38.984551",
     "status": "completed"
    },
    "tags": []
   },
   "outputs": [],
   "source": [
    "# Logistic Regression model\n",
    "LR = LogisticRegression(random_state=0)\n",
    "LR.fit(X_train, y_train)\n",
    "LR_pred = LR.predict(X_test)"
   ]
  },
  {
   "cell_type": "code",
   "execution_count": 360,
   "id": "7691a28c",
   "metadata": {},
   "outputs": [
    {
     "data": {
      "text/plain": [
       "array([1, 1, 1, 1, 1, 0, 0, 0, 1, 0, 1, 0, 0, 1, 1, 0, 0, 0, 0, 0])"
      ]
     },
     "execution_count": 360,
     "metadata": {},
     "output_type": "execute_result"
    }
   ],
   "source": [
    "# LR predictions\n",
    "LR_pred"
   ]
  },
  {
   "cell_type": "markdown",
   "id": "95572db4",
   "metadata": {},
   "source": [
    "* ### Visualisation of predictions"
   ]
  },
  {
   "cell_type": "code",
   "execution_count": 364,
   "id": "a3360327",
   "metadata": {},
   "outputs": [
    {
     "data": {
      "text/html": [
       "<style  type=\"text/css\" >\n",
       "    #T_7e0c9c24_c174_11eb_8af3_000fea99a025row0_col0 {\n",
       "            background-color:  #08306b;\n",
       "            color:  #f1f1f1;\n",
       "        }    #T_7e0c9c24_c174_11eb_8af3_000fea99a025row0_col1 {\n",
       "            background-color:  #08306b;\n",
       "            color:  #f1f1f1;\n",
       "        }    #T_7e0c9c24_c174_11eb_8af3_000fea99a025row1_col0 {\n",
       "            background-color:  #f7fbff;\n",
       "            color:  #000000;\n",
       "        }    #T_7e0c9c24_c174_11eb_8af3_000fea99a025row1_col1 {\n",
       "            background-color:  #08306b;\n",
       "            color:  #f1f1f1;\n",
       "        }    #T_7e0c9c24_c174_11eb_8af3_000fea99a025row2_col0 {\n",
       "            background-color:  #f7fbff;\n",
       "            color:  #000000;\n",
       "        }    #T_7e0c9c24_c174_11eb_8af3_000fea99a025row2_col1 {\n",
       "            background-color:  #08306b;\n",
       "            color:  #f1f1f1;\n",
       "        }    #T_7e0c9c24_c174_11eb_8af3_000fea99a025row3_col0 {\n",
       "            background-color:  #08306b;\n",
       "            color:  #f1f1f1;\n",
       "        }    #T_7e0c9c24_c174_11eb_8af3_000fea99a025row3_col1 {\n",
       "            background-color:  #08306b;\n",
       "            color:  #f1f1f1;\n",
       "        }    #T_7e0c9c24_c174_11eb_8af3_000fea99a025row4_col0 {\n",
       "            background-color:  #08306b;\n",
       "            color:  #f1f1f1;\n",
       "        }    #T_7e0c9c24_c174_11eb_8af3_000fea99a025row4_col1 {\n",
       "            background-color:  #08306b;\n",
       "            color:  #f1f1f1;\n",
       "        }    #T_7e0c9c24_c174_11eb_8af3_000fea99a025row5_col0 {\n",
       "            background-color:  #f7fbff;\n",
       "            color:  #000000;\n",
       "        }    #T_7e0c9c24_c174_11eb_8af3_000fea99a025row5_col1 {\n",
       "            background-color:  #f7fbff;\n",
       "            color:  #000000;\n",
       "        }    #T_7e0c9c24_c174_11eb_8af3_000fea99a025row6_col0 {\n",
       "            background-color:  #08306b;\n",
       "            color:  #f1f1f1;\n",
       "        }    #T_7e0c9c24_c174_11eb_8af3_000fea99a025row6_col1 {\n",
       "            background-color:  #f7fbff;\n",
       "            color:  #000000;\n",
       "        }    #T_7e0c9c24_c174_11eb_8af3_000fea99a025row7_col0 {\n",
       "            background-color:  #08306b;\n",
       "            color:  #f1f1f1;\n",
       "        }    #T_7e0c9c24_c174_11eb_8af3_000fea99a025row7_col1 {\n",
       "            background-color:  #f7fbff;\n",
       "            color:  #000000;\n",
       "        }    #T_7e0c9c24_c174_11eb_8af3_000fea99a025row8_col0 {\n",
       "            background-color:  #08306b;\n",
       "            color:  #f1f1f1;\n",
       "        }    #T_7e0c9c24_c174_11eb_8af3_000fea99a025row8_col1 {\n",
       "            background-color:  #08306b;\n",
       "            color:  #f1f1f1;\n",
       "        }    #T_7e0c9c24_c174_11eb_8af3_000fea99a025row9_col0 {\n",
       "            background-color:  #f7fbff;\n",
       "            color:  #000000;\n",
       "        }    #T_7e0c9c24_c174_11eb_8af3_000fea99a025row9_col1 {\n",
       "            background-color:  #f7fbff;\n",
       "            color:  #000000;\n",
       "        }</style><table id=\"T_7e0c9c24_c174_11eb_8af3_000fea99a025\" ><thead>    <tr>        <th class=\"blank level0\" ></th>        <th class=\"col_heading level0 col0\" >Actual Gender</th>        <th class=\"col_heading level0 col1\" >LR Predicted Gender</th>    </tr></thead><tbody>\n",
       "                <tr>\n",
       "                        <th id=\"T_7e0c9c24_c174_11eb_8af3_000fea99a025level0_row0\" class=\"row_heading level0 row0\" >45</th>\n",
       "                        <td id=\"T_7e0c9c24_c174_11eb_8af3_000fea99a025row0_col0\" class=\"data row0 col0\" >1</td>\n",
       "                        <td id=\"T_7e0c9c24_c174_11eb_8af3_000fea99a025row0_col1\" class=\"data row0 col1\" >1</td>\n",
       "            </tr>\n",
       "            <tr>\n",
       "                        <th id=\"T_7e0c9c24_c174_11eb_8af3_000fea99a025level0_row1\" class=\"row_heading level0 row1\" >28</th>\n",
       "                        <td id=\"T_7e0c9c24_c174_11eb_8af3_000fea99a025row1_col0\" class=\"data row1 col0\" >0</td>\n",
       "                        <td id=\"T_7e0c9c24_c174_11eb_8af3_000fea99a025row1_col1\" class=\"data row1 col1\" >1</td>\n",
       "            </tr>\n",
       "            <tr>\n",
       "                        <th id=\"T_7e0c9c24_c174_11eb_8af3_000fea99a025level0_row2\" class=\"row_heading level0 row2\" >29</th>\n",
       "                        <td id=\"T_7e0c9c24_c174_11eb_8af3_000fea99a025row2_col0\" class=\"data row2 col0\" >0</td>\n",
       "                        <td id=\"T_7e0c9c24_c174_11eb_8af3_000fea99a025row2_col1\" class=\"data row2 col1\" >1</td>\n",
       "            </tr>\n",
       "            <tr>\n",
       "                        <th id=\"T_7e0c9c24_c174_11eb_8af3_000fea99a025level0_row3\" class=\"row_heading level0 row3\" >55</th>\n",
       "                        <td id=\"T_7e0c9c24_c174_11eb_8af3_000fea99a025row3_col0\" class=\"data row3 col0\" >1</td>\n",
       "                        <td id=\"T_7e0c9c24_c174_11eb_8af3_000fea99a025row3_col1\" class=\"data row3 col1\" >1</td>\n",
       "            </tr>\n",
       "            <tr>\n",
       "                        <th id=\"T_7e0c9c24_c174_11eb_8af3_000fea99a025level0_row4\" class=\"row_heading level0 row4\" >63</th>\n",
       "                        <td id=\"T_7e0c9c24_c174_11eb_8af3_000fea99a025row4_col0\" class=\"data row4 col0\" >1</td>\n",
       "                        <td id=\"T_7e0c9c24_c174_11eb_8af3_000fea99a025row4_col1\" class=\"data row4 col1\" >1</td>\n",
       "            </tr>\n",
       "            <tr>\n",
       "                        <th id=\"T_7e0c9c24_c174_11eb_8af3_000fea99a025level0_row5\" class=\"row_heading level0 row5\" >31</th>\n",
       "                        <td id=\"T_7e0c9c24_c174_11eb_8af3_000fea99a025row5_col0\" class=\"data row5 col0\" >0</td>\n",
       "                        <td id=\"T_7e0c9c24_c174_11eb_8af3_000fea99a025row5_col1\" class=\"data row5 col1\" >0</td>\n",
       "            </tr>\n",
       "            <tr>\n",
       "                        <th id=\"T_7e0c9c24_c174_11eb_8af3_000fea99a025level0_row6\" class=\"row_heading level0 row6\" >51</th>\n",
       "                        <td id=\"T_7e0c9c24_c174_11eb_8af3_000fea99a025row6_col0\" class=\"data row6 col0\" >1</td>\n",
       "                        <td id=\"T_7e0c9c24_c174_11eb_8af3_000fea99a025row6_col1\" class=\"data row6 col1\" >0</td>\n",
       "            </tr>\n",
       "            <tr>\n",
       "                        <th id=\"T_7e0c9c24_c174_11eb_8af3_000fea99a025level0_row7\" class=\"row_heading level0 row7\" >46</th>\n",
       "                        <td id=\"T_7e0c9c24_c174_11eb_8af3_000fea99a025row7_col0\" class=\"data row7 col0\" >1</td>\n",
       "                        <td id=\"T_7e0c9c24_c174_11eb_8af3_000fea99a025row7_col1\" class=\"data row7 col1\" >0</td>\n",
       "            </tr>\n",
       "            <tr>\n",
       "                        <th id=\"T_7e0c9c24_c174_11eb_8af3_000fea99a025level0_row8\" class=\"row_heading level0 row8\" >34</th>\n",
       "                        <td id=\"T_7e0c9c24_c174_11eb_8af3_000fea99a025row8_col0\" class=\"data row8 col0\" >1</td>\n",
       "                        <td id=\"T_7e0c9c24_c174_11eb_8af3_000fea99a025row8_col1\" class=\"data row8 col1\" >1</td>\n",
       "            </tr>\n",
       "            <tr>\n",
       "                        <th id=\"T_7e0c9c24_c174_11eb_8af3_000fea99a025level0_row9\" class=\"row_heading level0 row9\" >4</th>\n",
       "                        <td id=\"T_7e0c9c24_c174_11eb_8af3_000fea99a025row9_col0\" class=\"data row9 col0\" >0</td>\n",
       "                        <td id=\"T_7e0c9c24_c174_11eb_8af3_000fea99a025row9_col1\" class=\"data row9 col1\" >0</td>\n",
       "            </tr>\n",
       "    </tbody></table>"
      ],
      "text/plain": [
       "<pandas.io.formats.style.Styler at 0x9815f10>"
      ]
     },
     "execution_count": 364,
     "metadata": {},
     "output_type": "execute_result"
    }
   ],
   "source": [
    "# visual comparison between Actual 'Gender' and Predicted 'Gender'\n",
    "actualvspredicted = pd.DataFrame({\"Actual Gender\":y_test,\"LR Predicted Gender\":LR_pred})\n",
    "actualvspredicted.head(10).style.background_gradient(cmap='Blues')"
   ]
  },
  {
   "cell_type": "markdown",
   "id": "6c0fd48b",
   "metadata": {},
   "source": [
    "* ### Classification report"
   ]
  },
  {
   "cell_type": "code",
   "execution_count": 357,
   "id": "6891b4d6",
   "metadata": {},
   "outputs": [
    {
     "name": "stdout",
     "output_type": "stream",
     "text": [
      "LR Classification Report: \n",
      "               precision    recall  f1-score   support\n",
      "\n",
      "           0   0.636364  0.777778  0.700000         9\n",
      "           1   0.777778  0.636364  0.700000        11\n",
      "\n",
      "    accuracy                       0.700000        20\n",
      "   macro avg   0.707071  0.707071  0.700000        20\n",
      "weighted avg   0.714141  0.700000  0.700000        20\n",
      "\n"
     ]
    }
   ],
   "source": [
    "# classification report of LR model\n",
    "print(\"LR Classification Report: \\n\", classification_report(y_test, LR_pred, digits = 6))"
   ]
  },
  {
   "cell_type": "markdown",
   "id": "1d7b3d7f",
   "metadata": {},
   "source": [
    "* ### Confusion matrix"
   ]
  },
  {
   "cell_type": "code",
   "execution_count": 358,
   "id": "58b1a2c4",
   "metadata": {},
   "outputs": [
    {
     "name": "stdout",
     "output_type": "stream",
     "text": [
      "LR Confusion Matrix\n"
     ]
    },
    {
     "data": {
      "image/png": "[encoded data removed]",
      "text/plain": [
       "<Figure size 432x288 with 2 Axes>"
      ]
     },
     "metadata": {
      "needs_background": "light"
     },
     "output_type": "display_data"
    },
    {
     "name": "stdout",
     "output_type": "stream",
     "text": [
      "\n"
     ]
    }
   ],
   "source": [
    "# confusion matrix of LR model\n",
    "LR_confusion_mx = confusion_matrix(y_test, LR_pred)\n",
    "print('LR Confusion Matrix')\n",
    "\n",
    "# visualisation\n",
    "ax = plt.subplot()\n",
    "sns.heatmap(LR_confusion_mx, annot = True, fmt = 'd', cmap = 'Blues', ax = ax, linewidths = 0.5, annot_kws = {'size': 15})\n",
    "ax.set_ylabel('FP       True label        TP')\n",
    "ax.set_xlabel('FN       Predicted label        TN')\n",
    "ax.xaxis.set_ticklabels(['1', '0'], fontsize = 10)\n",
    "ax.yaxis.set_ticklabels(['1', '0'], fontsize = 10)\n",
    "plt.show()\n",
    "print() "
   ]
  },
  {
   "cell_type": "markdown",
   "id": "b6b2ccc8",
   "metadata": {},
   "source": [
    "* ### ROC-AUC score"
   ]
  },
  {
   "cell_type": "code",
   "execution_count": 359,
   "id": "d85373a8",
   "metadata": {},
   "outputs": [
    {
     "data": {
      "text/plain": [
       "0.7070707070707071"
      ]
     },
     "execution_count": 359,
     "metadata": {},
     "output_type": "execute_result"
    }
   ],
   "source": [
    "# ROC-AUC score of LR model\n",
    "roc_auc_score(LR_pred, y_test)"
   ]
  },
  {
   "cell_type": "markdown",
   "id": "975daf75",
   "metadata": {},
   "source": [
    "##  Conclusion."
   ]
  },
  {
   "cell_type": "markdown",
   "id": "405dbc8d",
   "metadata": {},
   "source": [
    "**The main question** was: Predict a person's gender based on their personal preferences (check balance of classes; calculate perdictions).\n",
    "\n",
    "**Answers**: \n",
    "\n",
    "1. The data is too small. Only 66 instances.\n",
    "\n",
    "2. The classes are balanced.\n",
    "\n",
    "3. Logistic Regression model was choosen. Predictions (with visual comparison) were done with an accuracy of the model equal 0.7, no hyper parameters were applied."
   ]
  },
  {
   "cell_type": "code",
   "execution_count": null,
   "id": "f8bb0afd",
   "metadata": {},
   "outputs": [],
   "source": []
  }
 ],
 "metadata": {
  "kernelspec": {
   "display_name": "Python 3 (ipykernel)",
   "language": "python",
   "name": "python3"
  },
  "language_info": {
   "codemirror_mode": {
    "name": "ipython",
    "version": 3
   },
   "file_extension": ".py",
   "mimetype": "text/x-python",
   "name": "python",
   "nbconvert_exporter": "python",
   "pygments_lexer": "ipython3",
   "version": "3.10.2"
  },
  "papermill": {
   "default_parameters": {},
   "duration": 12.03125,
   "end_time": "2021-05-12T06:37:40.714635",
   "environment_variables": {},
   "exception": null,
   "input_path": "__notebook__.ipynb",
   "output_path": "__notebook__.ipynb",
   "parameters": {},
   "start_time": "2021-05-12T06:37:28.683385",
   "version": "2.3.2"
  }
 },
 "nbformat": 4,
 "nbformat_minor": 5
}
